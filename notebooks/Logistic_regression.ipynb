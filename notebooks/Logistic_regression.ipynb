{
 "cells": [
  {
   "cell_type": "code",
   "execution_count": 1,
   "metadata": {},
   "outputs": [
    {
     "name": "stderr",
     "output_type": "stream",
     "text": [
      "[nltk_data] Downloading package stopwords to\n",
      "[nltk_data]     /Users/mahdiraghib/nltk_data...\n",
      "[nltk_data]   Package stopwords is already up-to-date!\n"
     ]
    }
   ],
   "source": [
    "# from gensim.summarization import keywords\n",
    "import spacy\n",
    "import nltk\n",
    "from nltk.corpus import stopwords\n",
    "nltk.download('stopwords')\n",
    "stopwords = set(stopwords.words('english'))\n",
    "from spacy.lang.en import English\n",
    "nlp = English()\n",
    "nlp.max_length = 10000000\n",
    "import lyricsgenius\n",
    "import pandas as pd\n",
    "from textblob import TextBlob\n",
    "import numpy as np"
   ]
  },
  {
   "cell_type": "code",
   "execution_count": 2,
   "metadata": {},
   "outputs": [],
   "source": [
    "import matplotlib.pyplot as plt\n",
    "import seaborn as sns"
   ]
  },
  {
   "cell_type": "code",
   "execution_count": 3,
   "metadata": {},
   "outputs": [],
   "source": [
    "df_successful = pd.read_csv('Hot100.csv')\n",
    "df_successful['year'] = df_successful['WeekID'].str[:4]\n",
    "month = df_successful['WeekID'].str[5:7]\n",
    "df_successful['month'] = month\n",
    "# df_unsuccessful = pd.read_csv('UnsuccessfulSong.csv')\n",
    "\n",
    "# df_successful.head()"
   ]
  },
  {
   "cell_type": "code",
   "execution_count": 4,
   "metadata": {},
   "outputs": [],
   "source": [
    "df_features = pd.read_excel('Hot100AudioFeatures.xlsx') \n",
    "# df_features.head()"
   ]
  },
  {
   "cell_type": "code",
   "execution_count": 5,
   "metadata": {},
   "outputs": [],
   "source": [
    "df_successful = pd.merge(df_successful, df_features, on='Song', how='left')\n",
    "# df_successful.head()"
   ]
  },
  {
   "cell_type": "code",
   "execution_count": 6,
   "metadata": {},
   "outputs": [
    {
     "data": {
      "text/plain": [
       "Index(['WeekID', 'Unnamed: 0', 'url', 'Week Position', 'Song', 'Performer_x',\n",
       "       'SongID_x', 'Instance', 'Previous Week Position', 'Peak Position',\n",
       "       'Weeks on Chart', 'Lyrics', 'Sentiment', 'year', 'month', 'SongID_y',\n",
       "       'Performer_y', 'spotify_genre', 'spotify_track_id',\n",
       "       'spotify_track_preview_url', 'spotify_track_duration_ms',\n",
       "       'spotify_track_explicit', 'spotify_track_album', 'danceability',\n",
       "       'energy', 'key', 'loudness', 'mode', 'speechiness', 'acousticness',\n",
       "       'instrumentalness', 'liveness', 'valence', 'tempo', 'time_signature',\n",
       "       'spotify_track_popularity'],\n",
       "      dtype='object')"
      ]
     },
     "execution_count": 6,
     "metadata": {},
     "output_type": "execute_result"
    }
   ],
   "source": [
    "# df.shape\n",
    "\n",
    "df_successful.columns"
   ]
  },
  {
   "cell_type": "code",
   "execution_count": 7,
   "metadata": {},
   "outputs": [],
   "source": [
    "df_successful = df_successful[['Song', 'Performer_x', 'Lyrics', 'Sentiment', 'year', 'danceability', 'energy', 'loudness', 'acousticness','instrumentalness', 'valence']]\n",
    "# df_successful.head()"
   ]
  },
  {
   "cell_type": "code",
   "execution_count": 8,
   "metadata": {},
   "outputs": [],
   "source": [
    "df_unsuccessful = pd.read_csv('UnsuccessfulSong.csv')\n",
    "# df_unsuccessful.columns"
   ]
  },
  {
   "cell_type": "code",
   "execution_count": 9,
   "metadata": {},
   "outputs": [],
   "source": [
    "def get_lyric_sentiment(lyrics): \n",
    "\t''' \n",
    "\tFunction to return sentiment score of each song\n",
    "\t'''\n",
    "\tanalysis = TextBlob(lyrics) \n",
    "\treturn analysis.sentiment.polarity"
   ]
  },
  {
   "cell_type": "code",
   "execution_count": 10,
   "metadata": {},
   "outputs": [],
   "source": [
    "sentiment = df_unsuccessful.apply(lambda row: get_lyric_sentiment(row['lyrics']), axis =1)\n",
    "df_unsuccessful['Sentiment'] = sentiment"
   ]
  },
  {
   "cell_type": "code",
   "execution_count": 11,
   "metadata": {},
   "outputs": [
    {
     "data": {
      "text/html": [
       "<div>\n",
       "<style scoped>\n",
       "    .dataframe tbody tr th:only-of-type {\n",
       "        vertical-align: middle;\n",
       "    }\n",
       "\n",
       "    .dataframe tbody tr th {\n",
       "        vertical-align: top;\n",
       "    }\n",
       "\n",
       "    .dataframe thead th {\n",
       "        text-align: right;\n",
       "    }\n",
       "</style>\n",
       "<table border=\"1\" class=\"dataframe\">\n",
       "  <thead>\n",
       "    <tr style=\"text-align: right;\">\n",
       "      <th></th>\n",
       "      <th>artist_name</th>\n",
       "      <th>track_name</th>\n",
       "      <th>release_date</th>\n",
       "      <th>lyrics</th>\n",
       "      <th>Sentiment</th>\n",
       "      <th>danceability</th>\n",
       "      <th>loudness</th>\n",
       "      <th>acousticness</th>\n",
       "      <th>instrumentalness</th>\n",
       "      <th>valence</th>\n",
       "      <th>energy</th>\n",
       "    </tr>\n",
       "  </thead>\n",
       "  <tbody>\n",
       "    <tr>\n",
       "      <th>0</th>\n",
       "      <td>mukesh</td>\n",
       "      <td>mohabbat bhi jhoothi</td>\n",
       "      <td>1950</td>\n",
       "      <td>hold time feel break feel untrue convince spea...</td>\n",
       "      <td>-0.096875</td>\n",
       "      <td>0.357739</td>\n",
       "      <td>0.454119</td>\n",
       "      <td>0.997992</td>\n",
       "      <td>0.901822</td>\n",
       "      <td>0.339448</td>\n",
       "      <td>0.137110</td>\n",
       "    </tr>\n",
       "    <tr>\n",
       "      <th>1</th>\n",
       "      <td>frankie laine</td>\n",
       "      <td>i believe</td>\n",
       "      <td>1950</td>\n",
       "      <td>believe drop rain fall grow believe darkest ni...</td>\n",
       "      <td>0.450000</td>\n",
       "      <td>0.331745</td>\n",
       "      <td>0.647540</td>\n",
       "      <td>0.954819</td>\n",
       "      <td>0.000002</td>\n",
       "      <td>0.325021</td>\n",
       "      <td>0.263240</td>\n",
       "    </tr>\n",
       "    <tr>\n",
       "      <th>2</th>\n",
       "      <td>johnnie ray</td>\n",
       "      <td>cry</td>\n",
       "      <td>1950</td>\n",
       "      <td>sweetheart send letter goodbye secret feel bet...</td>\n",
       "      <td>-0.110000</td>\n",
       "      <td>0.456298</td>\n",
       "      <td>0.585288</td>\n",
       "      <td>0.840361</td>\n",
       "      <td>0.000000</td>\n",
       "      <td>0.351814</td>\n",
       "      <td>0.139112</td>\n",
       "    </tr>\n",
       "    <tr>\n",
       "      <th>3</th>\n",
       "      <td>pérez prado</td>\n",
       "      <td>patricia</td>\n",
       "      <td>1950</td>\n",
       "      <td>kiss lips want stroll charm mambo chacha merin...</td>\n",
       "      <td>0.150000</td>\n",
       "      <td>0.686992</td>\n",
       "      <td>0.744404</td>\n",
       "      <td>0.083935</td>\n",
       "      <td>0.199393</td>\n",
       "      <td>0.775350</td>\n",
       "      <td>0.743736</td>\n",
       "    </tr>\n",
       "    <tr>\n",
       "      <th>4</th>\n",
       "      <td>giorgos papadopoulos</td>\n",
       "      <td>apopse eida oneiro</td>\n",
       "      <td>1950</td>\n",
       "      <td>till darling till matter know till dream live ...</td>\n",
       "      <td>0.134091</td>\n",
       "      <td>0.291671</td>\n",
       "      <td>0.646489</td>\n",
       "      <td>0.975904</td>\n",
       "      <td>0.000246</td>\n",
       "      <td>0.597073</td>\n",
       "      <td>0.394375</td>\n",
       "    </tr>\n",
       "  </tbody>\n",
       "</table>\n",
       "</div>"
      ],
      "text/plain": [
       "            artist_name            track_name  release_date  \\\n",
       "0                mukesh  mohabbat bhi jhoothi          1950   \n",
       "1         frankie laine             i believe          1950   \n",
       "2           johnnie ray                   cry          1950   \n",
       "3           pérez prado              patricia          1950   \n",
       "4  giorgos papadopoulos    apopse eida oneiro          1950   \n",
       "\n",
       "                                              lyrics  Sentiment  danceability  \\\n",
       "0  hold time feel break feel untrue convince spea...  -0.096875      0.357739   \n",
       "1  believe drop rain fall grow believe darkest ni...   0.450000      0.331745   \n",
       "2  sweetheart send letter goodbye secret feel bet...  -0.110000      0.456298   \n",
       "3  kiss lips want stroll charm mambo chacha merin...   0.150000      0.686992   \n",
       "4  till darling till matter know till dream live ...   0.134091      0.291671   \n",
       "\n",
       "   loudness  acousticness  instrumentalness   valence    energy  \n",
       "0  0.454119      0.997992          0.901822  0.339448  0.137110  \n",
       "1  0.647540      0.954819          0.000002  0.325021  0.263240  \n",
       "2  0.585288      0.840361          0.000000  0.351814  0.139112  \n",
       "3  0.744404      0.083935          0.199393  0.775350  0.743736  \n",
       "4  0.646489      0.975904          0.000246  0.597073  0.394375  "
      ]
     },
     "execution_count": 11,
     "metadata": {},
     "output_type": "execute_result"
    }
   ],
   "source": [
    "df_unsuccessful = df_unsuccessful[['artist_name', 'track_name', 'release_date', 'lyrics', 'Sentiment', 'danceability','loudness', 'acousticness', 'instrumentalness', 'valence', 'energy']]\n",
    "df_unsuccessful.head()"
   ]
  },
  {
   "cell_type": "code",
   "execution_count": 12,
   "metadata": {},
   "outputs": [],
   "source": [
    "df_successful = df_successful.drop_duplicates(subset=['Song'], keep='first')\n",
    "df_successful = df_successful.reset_index(drop=True)\n",
    "\n",
    "df_unsuccessful = df_unsuccessful.drop_duplicates(subset=['track_name'], keep='first')\n",
    "df_unsuccessful = df_unsuccessful.reset_index(drop=True)"
   ]
  },
  {
   "cell_type": "code",
   "execution_count": 13,
   "metadata": {},
   "outputs": [
    {
     "data": {
      "text/plain": [
       "(21741, 11)"
      ]
     },
     "execution_count": 13,
     "metadata": {},
     "output_type": "execute_result"
    }
   ],
   "source": [
    "df_successful.shape"
   ]
  },
  {
   "cell_type": "code",
   "execution_count": 14,
   "metadata": {},
   "outputs": [
    {
     "name": "stdout",
     "output_type": "stream",
     "text": [
      "18\n"
     ]
    }
   ],
   "source": [
    "print(len(df_unsuccessful[df_unsuccessful['track_name'].isin(df_successful['Song'])]))"
   ]
  },
  {
   "cell_type": "code",
   "execution_count": 15,
   "metadata": {},
   "outputs": [
    {
     "name": "stdout",
     "output_type": "stream",
     "text": [
      "Number of unique unsuccessful songs:  23671\n"
     ]
    }
   ],
   "source": [
    "df_unsuccessful = df_unsuccessful[~df_unsuccessful['track_name'].isin(df_successful['Song'])]\n",
    "\n",
    "print(\"Number of unique unsuccessful songs: \", len(df_unsuccessful['track_name'].unique()))"
   ]
  },
  {
   "cell_type": "code",
   "execution_count": 16,
   "metadata": {},
   "outputs": [],
   "source": [
    "df_unsuccessful = df_unsuccessful.rename(columns={'track_name': 'Song', 'artist_name': 'Performer_x', 'release_date': 'year', 'lyrics': 'Lyrics'})"
   ]
  },
  {
   "cell_type": "code",
   "execution_count": 17,
   "metadata": {},
   "outputs": [],
   "source": [
    "df_successful['successful'] = 1\n",
    "\n",
    "df_unsuccessful['successful'] = 0"
   ]
  },
  {
   "cell_type": "code",
   "execution_count": 18,
   "metadata": {},
   "outputs": [
    {
     "data": {
      "text/plain": [
       "(42149, 12)"
      ]
     },
     "execution_count": 18,
     "metadata": {},
     "output_type": "execute_result"
    }
   ],
   "source": [
    "df = pd.concat([df_successful, df_unsuccessful], ignore_index=True)\n",
    "\n",
    "df = df.dropna()\n",
    "\n",
    "df = df.drop_duplicates(subset=['Song'], keep='first')\n",
    "\n",
    "df = df.reset_index(drop=True)\n",
    "\n",
    "# df.head()\n",
    "df.shape"
   ]
  },
  {
   "cell_type": "code",
   "execution_count": 19,
   "metadata": {},
   "outputs": [
    {
     "data": {
      "text/plain": [
       "array([[7163,    0],\n",
       "       [   3, 5479]])"
      ]
     },
     "execution_count": 19,
     "metadata": {},
     "output_type": "execute_result"
    }
   ],
   "source": [
    "#  Logistic Regression\n",
    "import statsmodels.api as sm\n",
    "from sklearn.model_selection import train_test_split\n",
    "from sklearn.linear_model import LogisticRegression\n",
    "from sklearn import metrics\n",
    "\n",
    "X = df[['Sentiment', 'danceability', 'energy', 'loudness', 'acousticness','instrumentalness', 'valence']]\n",
    "\n",
    "y = df['successful']\n",
    "\n",
    "X_train, X_test, y_train, y_test = train_test_split(X, y, test_size=0.3, random_state=0)\n",
    "\n",
    "logreg = LogisticRegression()\n",
    "logreg.fit(X_train, y_train)\n",
    "\n",
    "y_pred = logreg.predict(X_test)\n",
    "\n",
    "cnf_matrix = metrics.confusion_matrix(y_test, y_pred)\n",
    "cnf_matrix\n"
   ]
  },
  {
   "cell_type": "code",
   "execution_count": null,
   "metadata": {},
   "outputs": [
    {
     "name": "stdout",
     "output_type": "stream",
     "text": [
      "Accuracy: 0.6175563463819692\n",
      "Precision: 0.6120985599260963\n",
      "Recall: 0.6175563463819692\n",
      "F1-score: 0.6111971509878914\n"
     ]
    }
   ],
   "source": [
    "# a new model with only Sentiment as the independent variable\n",
    "X = df[['Sentiment', 'danceability', 'energy', 'acousticness','instrumentalness', 'valence']]\n",
    "y = df['successful']\n",
    "\n",
    "X_train, X_test, y_train, y_test = train_test_split(X, y, test_size=0.3, random_state=0)\n",
    "\n",
    "logreg = LogisticRegression()\n",
    "logreg.fit(X_train, y_train)\n",
    "\n",
    "y_pred = logreg.predict(X_test)\n",
    "\n",
    "print(\"Accuracy:\",metrics.accuracy_score(y_test, y_pred))\n",
    "print(\"Precision:\",metrics.precision_score(y_test, y_pred, average='weighted'))\n",
    "print(\"Recall:\",metrics.recall_score(y_test, y_pred, average='weighted'))\n",
    "print(\"F1-score:\",metrics.f1_score(y_test, y_pred, average='weighted'))"
   ]
  },
  {
   "cell_type": "code",
   "execution_count": null,
   "metadata": {},
   "outputs": [
    {
     "data": {
      "image/png": "[encoded data removed]",
      "text/plain": [
       "<Figure size 792x504 with 1 Axes>"
      ]
     },
     "metadata": {
      "needs_background": "light"
     },
     "output_type": "display_data"
    }
   ],
   "source": [
    "plt.figure(figsize=(11,7))\n",
    "ax = sns.barplot(x=X_train.columns, y=logreg.coef_[0])\n",
    "ax.set_xticklabels(ax.get_xticklabels(), rotation=40, ha=\"right\")\n",
    "plt.tight_layout()\n",
    "plt.title('Coefficients', y=1.1)\n",
    "plt.ylabel('Coefficient')\n",
    "plt.xlabel('Independent Variables')\n",
    "# plt.grid()\n",
    "\n",
    "plt.show()"
   ]
  }
 ],
 "metadata": {
  "kernelspec": {
   "display_name": "env-IDS2022-23",
   "language": "python",
   "name": "python3"
  },
  "language_info": {
   "codemirror_mode": {
    "name": "ipython",
    "version": 3
   },
   "file_extension": ".py",
   "mimetype": "text/x-python",
   "name": "python",
   "nbconvert_exporter": "python",
   "pygments_lexer": "ipython3",
   "version": "3.10.7"
  },
  "orig_nbformat": 4
 },
 "nbformat": 4,
 "nbformat_minor": 2
}
